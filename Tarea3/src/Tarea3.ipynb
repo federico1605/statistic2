{
 "cells": [
  {
   "cell_type": "code",
   "execution_count": null,
   "id": "baa75815-b976-4d6f-82d9-97452642c1c4",
   "metadata": {},
   "outputs": [],
   "source": [
    "import os\n",
    "import cv2\n",
    "import numpy as np\n",
    "import pandas as pd\n",
    "from tensorflow.keras.models import Sequential\n",
    "from tensorflow.keras.layers import Conv2D, MaxPooling2D, Flatten, Dense\n",
    "from tensorflow.keras.utils import to_categorical\n",
    "from sklearn.model_selection import train_test_split"
   ]
  },
  {
   "cell_type": "code",
   "execution_count": null,
   "id": "c36fe0e6-cef9-4008-8890-244ca797980b",
   "metadata": {},
   "outputs": [],
   "source": [
    "img_size = 100\n",
    "num_classes = len(os.listdir(\"data/train\"))"
   ]
  },
  {
   "cell_type": "code",
   "execution_count": null,
   "id": "c3c0ec9c-238e-4df8-9bd4-b1751909c820",
   "metadata": {},
   "outputs": [],
   "source": [
    "train_data = []\n",
    "train_labels = []\n",
    "class_names = sorted(os.listdir(\"data/train\"))\n",
    "for class_name in class_names:\n",
    "    class_path = os.path.join(\"data/train\", class_name)\n",
    "    for img_name in os.listdir(class_path):\n",
    "        img_path = os.path.join(class_path, img_name)\n",
    "        img = cv2.imread(img_path)\n",
    "        img = cv2.resize(img, (img_size, img_size))\n",
    "        train_data.append(img)\n",
    "        train_labels.append(class_names.index(class_name))\n",
    "\n",
    "\n",
    "test_data = []\n",
    "file_names = []\n",
    "test_class_names = sorted(os.listdir(\"data/test\"))\n",
    "for class_name in test_class_names:\n",
    "    class_path = os.path.join(\"data/test\", class_name)\n",
    "    for img_name in os.listdir(class_path):\n",
    "        img_path = os.path.join(class_path, img_name)\n",
    "        img = cv2.imread(img_path)\n",
    "        img = cv2.resize(img, (img_size, img_size))\n",
    "        test_data.append(img)\n",
    "        file_names.append(f\"{class_name}/{img_name}\")\n",
    "\n",
    "\n",
    "train_data = np.array(train_data)\n",
    "train_data = train_data.astype('float32') / 255.0\n",
    "train_labels = to_categorical(train_labels, num_classes)\n",
    "test_data = np.array(test_data)\n",
    "test_data = test_data.astype('float32') / 255.0"
   ]
  },
  {
   "cell_type": "code",
   "execution_count": null,
   "id": "6d1465e3-9305-408b-8214-cf56a6e6ae52",
   "metadata": {},
   "outputs": [],
   "source": [
    "model = Sequential()\n",
    "model.add(Conv2D(32, (3, 3), activation='relu', input_shape=(img_size, img_size, 3)))\n",
    "model.add(MaxPooling2D((2, 2)))\n",
    "model.add(Conv2D(64, (3, 3), activation='relu'))\n",
    "model.add(MaxPooling2D((2, 2)))\n",
    "model.add(Flatten())\n",
    "model.add(Dense(128, activation='relu'))\n",
    "model.add(Dense(num_classes, activation='softmax'))"
   ]
  },
  {
   "cell_type": "code",
   "execution_count": null,
   "id": "de4f93c2-f584-45bf-b7f1-bd4eef23c764",
   "metadata": {},
   "outputs": [],
   "source": [
    "model.compile(optimizer='adam', loss='categorical_crossentropy', metrics=['accuracy'])"
   ]
  },
  {
   "cell_type": "code",
   "execution_count": null,
   "id": "a253f854-7ef1-49eb-887e-11f423d2c6aa",
   "metadata": {},
   "outputs": [],
   "source": [
    "model.fit(train_data, train_labels, epochs=10, batch_size=32)"
   ]
  },
  {
   "cell_type": "code",
   "execution_count": null,
   "id": "325d1018-aa58-4aa7-b9f3-56dd806286f5",
   "metadata": {},
   "outputs": [],
   "source": [
    "predictions = model.predict(test_data)\n",
    "\n",
    "\n",
    "predicted_species = [class_names[np.argmax(prediction)] for prediction in predictions]\n",
    "\n",
    "\n",
    "predictions_df = pd.DataFrame({'file': file_names, 'species': predicted_species})\n",
    "predictions_df.to_csv('predictions.csv', index=False)"
   ]
  }
 ],
 "metadata": {
  "kernelspec": {
   "display_name": "Python 3 (ipykernel)",
   "language": "python",
   "name": "python3"
  },
  "language_info": {
   "codemirror_mode": {
    "name": "ipython",
    "version": 3
   },
   "file_extension": ".py",
   "mimetype": "text/x-python",
   "name": "python",
   "nbconvert_exporter": "python",
   "pygments_lexer": "ipython3",
   "version": "3.10.5"
  }
 },
 "nbformat": 4,
 "nbformat_minor": 5
}
